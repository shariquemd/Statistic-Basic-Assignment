{
 "cells": [
  {
   "cell_type": "markdown",
   "id": "50949a97",
   "metadata": {},
   "source": [
    "# Answer1"
   ]
  },
  {
   "cell_type": "code",
   "execution_count": 2,
   "id": "065854a8",
   "metadata": {},
   "outputs": [],
   "source": [
    "It is the science of collecting,organizing and analyzing the data."
   ]
  },
  {
   "cell_type": "markdown",
   "id": "92c7f7b9",
   "metadata": {},
   "source": [
    "# Answer2"
   ]
  },
  {
   "cell_type": "code",
   "execution_count": null,
   "id": "16fcc070",
   "metadata": {},
   "outputs": [],
   "source": [
    "There are 2 types of statistics:\n",
    "\n",
    "(i)Descriptive Statistic->It consisit of organizing and summaring \n",
    "the data.For eg-Taking the random height of students in class.\n",
    "\n",
    "(ii)Inferential Statistic->It consist of using data you have \n",
    "measured to form conclusion.For eg:Are the height of students in \n",
    "classroom is similar to what we expect from the entire college."
   ]
  },
  {
   "cell_type": "markdown",
   "id": "e932e951",
   "metadata": {},
   "source": [
    "# Answer3"
   ]
  },
  {
   "cell_type": "code",
   "execution_count": null,
   "id": "cddb195a",
   "metadata": {},
   "outputs": [],
   "source": [
    "Types of data:\n",
    "(i)Quantitative               (ii)Qualitative\n",
    "(a)Discrete                   (a)Normal\n",
    "(b)Continuous                 (b)Ordinal\n",
    "Eg:No.of bank accounts         Eg:Color\n",
    "    Weights                       App rating"
   ]
  },
  {
   "cell_type": "markdown",
   "id": "eb1bef73",
   "metadata": {},
   "source": [
    "# Answer4"
   ]
  },
  {
   "cell_type": "code",
   "execution_count": null,
   "id": "19516cac",
   "metadata": {},
   "outputs": [],
   "source": [
    "(i)Ordinal Qualitative \n",
    "(ii)Normal Qualitative\n",
    "(iii)Continuos Quantitative\n",
    "(iv) Discrete Quantitative"
   ]
  },
  {
   "cell_type": "markdown",
   "id": "1a6a9eca",
   "metadata": {},
   "source": [
    "# Answer5"
   ]
  },
  {
   "cell_type": "code",
   "execution_count": null,
   "id": "c1fb8e71",
   "metadata": {},
   "outputs": [],
   "source": [
    "Scale of measurement of data:\n",
    "(i)Nominal Scale Data:\n",
    ".Quantitative/Categorical variable\n",
    ".Order doesn't matter\n",
    ".Eg->Gender,Color\n",
    "\n",
    "(ii)Ordinal Scale Data:\n",
    ".Ranking and Order Matters\n",
    ".Difference can't be measured\n",
    ".Eg->Top scorer batsman in ODI format.\n",
    "\n",
    "(iii)Internal Scale Data:\n",
    ".Ranking and Order Matters\n",
    ".Difference can be measured\n",
    ".It does not have 0 starting value\n",
    ".Eg->Temperaure\n",
    "\n",
    "(iv)Ratio Scale Data:\n",
    ".Ranking and Order Matters\n",
    ".Difference and ratio can be measured\n",
    ".It may be 0 as a starting value\n",
    ".Eg->Marks"
   ]
  },
  {
   "cell_type": "markdown",
   "id": "03b04a24",
   "metadata": {},
   "source": [
    "# Answer6"
   ]
  },
  {
   "cell_type": "code",
   "execution_count": null,
   "id": "3f27c4fb",
   "metadata": {},
   "outputs": [],
   "source": [
    "Understanding the level of measurement is crucial because it \n",
    "determines the statistical analyses you can perform. We wouldn't \n",
    "use advanced statistical techniques like ANOVA on nominal data, and \n",
    "you can't calculate a mean for ordinal data without risking \n",
    "misinterpretation. It's about picking the right tools for the job."
   ]
  },
  {
   "cell_type": "markdown",
   "id": "c308be6b",
   "metadata": {},
   "source": [
    "# Answer7"
   ]
  },
  {
   "cell_type": "code",
   "execution_count": null,
   "id": "23957928",
   "metadata": {},
   "outputs": [],
   "source": [
    "The main distinction lies in the nature of the data and the level of \n",
    "information conveyed. Nominal data simply categorizes without any \n",
    "order, while ordinal data introduces a meaningful order or ranking, \n",
    "though the intervals between the categories are not consistently \n",
    "measurable."
   ]
  },
  {
   "cell_type": "markdown",
   "id": "d4f80784",
   "metadata": {},
   "source": [
    "# Answer8"
   ]
  },
  {
   "cell_type": "code",
   "execution_count": null,
   "id": "42b6e3b1",
   "metadata": {},
   "outputs": [],
   "source": [
    "A box plot, also known as a box-and-whisker plot, is commonly used \n",
    "to display data in terms of range. The box plot provides a visual \n",
    "summary of the distribution of a dataset, including its central \n",
    "tendency, spread, and any potential outliers."
   ]
  },
  {
   "cell_type": "markdown",
   "id": "83ddd1ce",
   "metadata": {},
   "source": [
    "# Answer9"
   ]
  },
  {
   "cell_type": "code",
   "execution_count": null,
   "id": "168b8329",
   "metadata": {},
   "outputs": [],
   "source": [
    "(i)Descriptive Statistic->It consisit of organizing and summaring the data.\n",
    ".Measure of Central Tendancy\n",
    ".Measure of Dispersion\n",
    ".Histogram,Bar Chart\n",
    "\n",
    "(ii)Inferential Statistic->It consist of using data you have measured to form conclusion.\n",
    ".X-test\n",
    ".T-test\n",
    "\n",
    "For eg->Taking the random height of students in class.\n",
    "For eg->Are the height of students in classroom is similar \n",
    "to what we expect from the entire college."
   ]
  },
  {
   "cell_type": "markdown",
   "id": "0b26c375",
   "metadata": {},
   "source": [
    "# Answer10"
   ]
  },
  {
   "cell_type": "code",
   "execution_count": null,
   "id": "a08ad038",
   "metadata": {},
   "outputs": [],
   "source": [
    "Measures of Central Tendency:\n",
    "Mean (Average):\n",
    "Calculation: Sum of all values divided by the number of values.\n",
    "Use: Represents the typical value; sensitive to outliers.\n",
    "\n",
    "Median:\n",
    "Calculation: Middle value when data is sorted; or average of two middle values.\n",
    "Use: Less affected by extreme values; indicates the central position.\n",
    "\n",
    "Mode:\n",
    "Calculation: Most frequently occurring value.\n",
    "Use: Describes the most common value(s); applicable to categorical and numerical data.\n",
    "Measures of Variability:\n",
    "\n",
    "Range:\n",
    "Calculation: The difference between the maximum and minimum values.\n",
    "Use: Provides a simple indication of the spread; sensitive to outliers.\n",
    "\n",
    "Interquartile Range (IQR):\n",
    "Calculation: Range between the first quartile (Q1) and third quartile (Q3).\n",
    "Use: Captures the spread of the middle 50% of the data; less sensitive to extreme values than the range.\n",
    "\n",
    "Variance:\n",
    "Calculation: Average of the squared differences from the mean.\n",
    "Use: Quantifies the overall variability; sensitive to extreme values.\n",
    "\n",
    "Standard Deviation:\n",
    "Calculation: Square root of the variance.\n",
    "Use: Provides a measure of dispersion similar to the average distance from the mean; widely used due to its interpretability.\n",
    "\n",
    "Coefficient of Variation (CV):\n",
    "Calculation: (Standard Deviation / Mean) * 100.\n",
    "Use: Expresses the relative variability as a percentage of the mean; helpful for comparing variability across different scales.\n",
    "\n",
    "\n"
   ]
  }
 ],
 "metadata": {
  "kernelspec": {
   "display_name": "Python 3 (ipykernel)",
   "language": "python",
   "name": "python3"
  },
  "language_info": {
   "codemirror_mode": {
    "name": "ipython",
    "version": 3
   },
   "file_extension": ".py",
   "mimetype": "text/x-python",
   "name": "python",
   "nbconvert_exporter": "python",
   "pygments_lexer": "ipython3",
   "version": "3.11.4"
  }
 },
 "nbformat": 4,
 "nbformat_minor": 5
}
